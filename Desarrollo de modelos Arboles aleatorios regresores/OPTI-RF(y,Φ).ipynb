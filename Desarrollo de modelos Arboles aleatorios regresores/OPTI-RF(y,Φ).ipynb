{
 "cells": [
  {
   "cell_type": "markdown",
   "id": "0f78daae-7ff0-44b2-b8bb-9380d6f083d1",
   "metadata": {},
   "source": [
    "### AJUSTE HIPERPARAMETROS MODELO DE ARBOLES ALEATORIOS (RF)"
   ]
  },
  {
   "cell_type": "markdown",
   "id": "bc190f17-a901-4fc7-8237-b3c5c30556c8",
   "metadata": {},
   "source": [
    "### Cargar los datos ya limpiados y analizados en el Notebook analisis data y cargar librerias necesarias"
   ]
  },
  {
   "cell_type": "code",
   "execution_count": 4,
   "id": "19102f0f-d129-4db9-9df1-99b781f0427b",
   "metadata": {},
   "outputs": [],
   "source": [
    "!pip install -q -U keras-tuner"
   ]
  },
  {
   "cell_type": "code",
   "execution_count": 1,
   "id": "fbe56f8e-8026-434e-8f2b-fa2f8f7171be",
   "metadata": {},
   "outputs": [],
   "source": [
    "\n",
    "import numpy as np\n",
    "import pandas as pd\n",
    "from keras import backend as K\n",
    "import tensorflow as tf\n",
    "from tensorflow import keras\n",
    "from tensorflow.keras import layers\n",
    "from sklearn.model_selection import train_test_split\n",
    "from sklearn.preprocessing import StandardScaler, OneHotEncoder\n",
    "from sklearn.compose import ColumnTransformer\n",
    "from sklearn.metrics import r2_score, mean_squared_error, mean_absolute_percentage_error\n",
    "import matplotlib.pyplot as plt\n",
    "datos=pd.read_csv(\"Data_clean_Completo4.csv\")\n",
    "\n"
   ]
  },
  {
   "cell_type": "markdown",
   "id": "af26b29f-1222-43e1-b6b3-5f1e66cb30f5",
   "metadata": {},
   "source": [
    "### Preprocesamiento de datos"
   ]
  },
  {
   "cell_type": "code",
   "execution_count": 2,
   "id": "c950064d-37ee-41ca-bff8-21ef63a14f21",
   "metadata": {},
   "outputs": [],
   "source": [
    "\n",
    "variables_categoricas = [\"Cation\", \"Anion\",\"T_Comportamiento\"]\n",
    "variables_numericas = [\"Solute_Mol_Mass\", \"Num_Cations\", \"Num_Anions\", \"Temperature_C\", \"Solvent_Mol_Mass\", \"Molal\"]\n",
    "variables_a_predecir = [\"Molal_Activity_Coefficient\", \"Osmotic_Coefficient\"]\n",
    "\n",
    "\n",
    "column_transformer = ColumnTransformer(\n",
    "    transformers=[\n",
    "        (\"cat\", OneHotEncoder(), variables_categoricas),\n",
    "        (\"num\", StandardScaler(), variables_numericas)\n",
    "    ])\n",
    "\n",
    "\n"
   ]
  },
  {
   "cell_type": "markdown",
   "id": "7d5c50e3-2c4b-405d-a642-7df4188badf1",
   "metadata": {},
   "source": [
    "### División de datos en conjuntos de entrenamiento y prueba"
   ]
  },
  {
   "cell_type": "code",
   "execution_count": 3,
   "id": "7a72a0ee-7b3f-476f-8443-905b18ccaf0f",
   "metadata": {},
   "outputs": [],
   "source": [
    "from sklearn.model_selection import train_test_split\n",
    "train_data, test_data = train_test_split(datos, test_size=0.2, random_state=42, stratify=datos['Id_solucion'])\n",
    "X_test = column_transformer.fit_transform(test_data[variables_categoricas + variables_numericas])\n",
    "y_test = test_data[variables_a_predecir].values\n",
    "X_train = column_transformer.fit_transform(train_data[variables_categoricas + variables_numericas])\n",
    "y_train = train_data[variables_a_predecir].values\n",
    "X_train=X_train.toarray()\n"
   ]
  },
  {
   "cell_type": "markdown",
   "id": "021c8d1b-35fd-48eb-9e54-ec4f95754534",
   "metadata": {},
   "source": [
    "### Optimizacion RFR"
   ]
  },
  {
   "cell_type": "code",
   "execution_count": 6,
   "id": "6951a8c6-d854-4290-b534-ae05e60ecc5e",
   "metadata": {},
   "outputs": [
    {
     "name": "stdout",
     "output_type": "stream",
     "text": [
      "Fitting 3 folds for each of 10 candidates, totalling 30 fits\n",
      "[CV] END max_depth=20, min_samples_split=10, n_estimators=300; total time=  11.0s\n",
      "[CV] END max_depth=20, min_samples_split=10, n_estimators=300; total time=  10.5s\n",
      "[CV] END max_depth=20, min_samples_split=10, n_estimators=300; total time=  10.1s\n",
      "[CV] END max_depth=10, min_samples_split=10, n_estimators=100; total time=   2.4s\n",
      "[CV] END max_depth=10, min_samples_split=10, n_estimators=100; total time=   2.2s\n",
      "[CV] END max_depth=10, min_samples_split=10, n_estimators=100; total time=   3.3s\n",
      "[CV] END max_depth=20, min_samples_split=5, n_estimators=150; total time=   5.1s\n",
      "[CV] END max_depth=20, min_samples_split=5, n_estimators=150; total time=   5.0s\n",
      "[CV] END max_depth=20, min_samples_split=5, n_estimators=150; total time=   5.9s\n",
      "[CV] END max_depth=20, min_samples_split=10, n_estimators=50; total time=   1.9s\n",
      "[CV] END max_depth=20, min_samples_split=10, n_estimators=50; total time=   1.8s\n",
      "[CV] END max_depth=20, min_samples_split=10, n_estimators=50; total time=   1.1s\n",
      "[CV] END max_depth=10, min_samples_split=10, n_estimators=250; total time=   8.3s\n",
      "[CV] END max_depth=10, min_samples_split=10, n_estimators=250; total time=   8.4s\n",
      "[CV] END max_depth=10, min_samples_split=10, n_estimators=250; total time=   7.1s\n",
      "[CV] END max_depth=20, min_samples_split=10, n_estimators=100; total time=   3.6s\n",
      "[CV] END max_depth=20, min_samples_split=10, n_estimators=100; total time=   3.6s\n",
      "[CV] END max_depth=20, min_samples_split=10, n_estimators=100; total time=   3.8s\n",
      "[CV] END max_depth=20, min_samples_split=2, n_estimators=200; total time=   8.2s\n",
      "[CV] END max_depth=20, min_samples_split=2, n_estimators=200; total time=   9.2s\n",
      "[CV] END max_depth=20, min_samples_split=2, n_estimators=200; total time=   8.8s\n",
      "[CV] END max_depth=10, min_samples_split=10, n_estimators=50; total time=   1.3s\n",
      "[CV] END max_depth=10, min_samples_split=10, n_estimators=50; total time=   1.3s\n",
      "[CV] END max_depth=10, min_samples_split=10, n_estimators=50; total time=   1.3s\n",
      "[CV] END max_depth=10, min_samples_split=5, n_estimators=150; total time=   4.3s\n",
      "[CV] END max_depth=10, min_samples_split=5, n_estimators=150; total time=   3.9s\n",
      "[CV] END max_depth=10, min_samples_split=5, n_estimators=150; total time=   3.5s\n",
      "[CV] END max_depth=10, min_samples_split=10, n_estimators=300; total time=   8.0s\n",
      "[CV] END max_depth=10, min_samples_split=10, n_estimators=300; total time=   8.3s\n",
      "[CV] END max_depth=10, min_samples_split=10, n_estimators=300; total time=   8.9s\n",
      "Best parameters found:  {'n_estimators': 200, 'min_samples_split': 2, 'max_depth': 20}\n"
     ]
    }
   ],
   "source": [
    "from sklearn.ensemble import RandomForestRegressor\n",
    "from sklearn.model_selection import RandomizedSearchCV\n",
    "\n",
    "# Definir hiperparámetros y espacio de búsqueda\n",
    "param_dist = {\n",
    "    'n_estimators': [50, 100, 150, 200, 250, 300],\n",
    "    'max_depth': [10, 20],\n",
    "    'min_samples_split': [2, 5, 10],\n",
    "}\n",
    "\n",
    "# Crear modelo de RFR\n",
    "model = RandomForestRegressor(random_state=500)\n",
    "\n",
    "# Definir objeto de búsqueda aleatoria\n",
    "random_search = RandomizedSearchCV(\n",
    "    estimator=model,\n",
    "    param_distributions=param_dist,\n",
    "    n_iter=10,  # número de configuraciones de hiperparámetros que se probarán\n",
    "    cv=3,\n",
    "    verbose=2,\n",
    "    random_state=42,\n",
    "    n_jobs=1,\n",
    ")\n",
    "\n",
    "# Ejecutar búsqueda aleatoria\n",
    "random_search.fit(X_train, y_train)\n",
    "\n",
    "# Mostrar los mejores parámetros encontrados\n",
    "print(\"Best parameters found: \", random_search.best_params_)"
   ]
  },
  {
   "cell_type": "code",
   "execution_count": null,
   "id": "c4018315-f725-48da-a3a2-8ac02e5fdbf9",
   "metadata": {},
   "outputs": [],
   "source": []
  }
 ],
 "metadata": {
  "kernelspec": {
   "display_name": "Python 3 (ipykernel)",
   "language": "python",
   "name": "python3"
  },
  "language_info": {
   "codemirror_mode": {
    "name": "ipython",
    "version": 3
   },
   "file_extension": ".py",
   "mimetype": "text/x-python",
   "name": "python",
   "nbconvert_exporter": "python",
   "pygments_lexer": "ipython3",
   "version": "3.10.5"
  }
 },
 "nbformat": 4,
 "nbformat_minor": 5
}
